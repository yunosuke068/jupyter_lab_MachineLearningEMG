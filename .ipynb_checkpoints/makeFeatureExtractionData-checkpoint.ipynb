{
 "cells": [
  {
   "cell_type": "code",
   "execution_count": 1,
   "metadata": {},
   "outputs": [],
   "source": [
    "import MyFunction"
   ]
  },
  {
   "cell_type": "code",
   "execution_count": 12,
   "metadata": {},
   "outputs": [],
   "source": [
    "fullIEMG = MyFunction.getIEMGList(rectification='full', feature=False, cut=True)"
   ]
  },
  {
   "cell_type": "code",
   "execution_count": 13,
   "metadata": {},
   "outputs": [
    {
     "name": "stdout",
     "output_type": "stream",
     "text": [
      "11\n",
      "20\n",
      "8\n",
      "150\n"
     ]
    }
   ],
   "source": [
    "for l in [fullIEMG, fullIEMG[0], fullIEMG[0][0], fullIEMG[0][0][0]]:\n",
    "    print(len(l))"
   ]
  },
  {
   "cell_type": "code",
   "execution_count": 22,
   "metadata": {},
   "outputs": [],
   "source": [
    "iemgList = []\n",
    "for gesture in range(11):\n",
    "    for trial in range(18):\n",
    "        for sample in range(150):\n",
    "            testList = []\n",
    "            for sensor in range(8):\n",
    "                testList.append(fullIEMG[gesture][trial][sensor][sample])\n",
    "            testList.append(gesture)\n",
    "            testList.append(trial)\n",
    "            testList.append(sample)\n",
    "            iemgList.append(testList)"
   ]
  },
  {
   "cell_type": "code",
   "execution_count": 24,
   "metadata": {},
   "outputs": [
    {
     "name": "stdout",
     "output_type": "stream",
     "text": [
      "11\n"
     ]
    }
   ],
   "source": [
    "print(len(iemgList[0]))"
   ]
  },
  {
   "cell_type": "code",
   "execution_count": 39,
   "metadata": {},
   "outputs": [
    {
     "name": "stdout",
     "output_type": "stream",
     "text": [
      "['sensor1', 'sensor2', 'sensor3', 'sensor4', 'sensor5', 'sensor6', 'sensor7', 'sensor8', '動作番号', '試行番号', '時系列番号']\n"
     ]
    }
   ],
   "source": [
    "header = []\n",
    "for i in range(8):\n",
    "    header.append('sensor'+str(i+1))\n",
    "for s in ['動作番号', '試行番号', '時系列番号']:\n",
    "    header.append(s)\n",
    "print(header)"
   ]
  },
  {
   "cell_type": "code",
   "execution_count": 33,
   "metadata": {},
   "outputs": [
    {
     "name": "stdout",
     "output_type": "stream",
     "text": [
      "[10.428519189780408, 6.378991740443889, 1.9157206454771543, 2.3026691704365527, 9.100976715944029, 1.8038007857075251, 1.491859949668234, 1.5106446216099898, 0, 0, 0]\n",
      "[31.874960273001566, 5.205932900037487, 6.331910943063985, 5.188258770095419, 17.821947133816483, 3.5220151918098157, 1.9565980931652698, 3.4633868332466737, 0, 17, 149]\n"
     ]
    }
   ],
   "source": [
    "print(iemgList[0])\n",
    "print(iemgList[2699])"
   ]
  },
  {
   "cell_type": "code",
   "execution_count": 31,
   "metadata": {},
   "outputs": [
    {
     "data": {
      "text/plain": [
       "2700"
      ]
     },
     "execution_count": 31,
     "metadata": {},
     "output_type": "execute_result"
    }
   ],
   "source": [
    "18*150"
   ]
  },
  {
   "cell_type": "code",
   "execution_count": null,
   "metadata": {},
   "outputs": [],
   "source": []
  }
 ],
 "metadata": {
  "kernelspec": {
   "display_name": "Python 3",
   "language": "python",
   "name": "python3"
  },
  "language_info": {
   "codemirror_mode": {
    "name": "ipython",
    "version": 3
   },
   "file_extension": ".py",
   "mimetype": "text/x-python",
   "name": "python",
   "nbconvert_exporter": "python",
   "pygments_lexer": "ipython3",
   "version": "3.6.5"
  }
 },
 "nbformat": 4,
 "nbformat_minor": 4
}
