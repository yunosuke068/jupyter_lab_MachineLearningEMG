{
 "cells": [
  {
   "cell_type": "code",
   "execution_count": 42,
   "metadata": {},
   "outputs": [],
   "source": [
    "import MyFunction\n",
    "import csv"
   ]
  },
  {
   "cell_type": "markdown",
   "metadata": {},
   "source": [
    "### 全波整流平滑化したIEMGの読み込み"
   ]
  },
  {
   "cell_type": "code",
   "execution_count": 76,
   "metadata": {},
   "outputs": [],
   "source": [
    "fullIEMG = MyFunction.getIEMGList(rectification='full', feature=False, cut=True)"
   ]
  },
  {
   "cell_type": "code",
   "execution_count": 77,
   "metadata": {},
   "outputs": [
    {
     "name": "stdout",
     "output_type": "stream",
     "text": [
      "11\n",
      "20\n",
      "8\n",
      "150\n"
     ]
    }
   ],
   "source": [
    "for l in [fullIEMG, fullIEMG[0], fullIEMG[0][0], fullIEMG[0][0][0]]:\n",
    "    print(len(l))"
   ]
  },
  {
   "cell_type": "markdown",
   "metadata": {},
   "source": [
    "### csvデータのheaderの生成"
   ]
  },
  {
   "cell_type": "code",
   "execution_count": 39,
   "metadata": {},
   "outputs": [
    {
     "name": "stdout",
     "output_type": "stream",
     "text": [
      "['sensor1', 'sensor2', 'sensor3', 'sensor4', 'sensor5', 'sensor6', 'sensor7', 'sensor8', '動作番号', '試行番号', '時系列番号']\n"
     ]
    }
   ],
   "source": [
    "header = []\n",
    "for i in range(8):\n",
    "    header.append('sensor'+str(i+1))\n",
    "for s in ['動作番号', '試行番号', '時系列番号']:\n",
    "    header.append(s)\n",
    "print(header)"
   ]
  },
  {
   "cell_type": "markdown",
   "metadata": {},
   "source": [
    "### リストの形を変換"
   ]
  },
  {
   "cell_type": "code",
   "execution_count": 78,
   "metadata": {},
   "outputs": [],
   "source": [
    "fullIEMGList = []\n",
    "for gesture in range(11):\n",
    "    for trial in range(18):\n",
    "        for sample in range(150):\n",
    "            testList = []\n",
    "            for sensor in range(8):\n",
    "                testList.append(fullIEMG[gesture][trial][sensor][sample])\n",
    "            testList.append(gesture)\n",
    "            testList.append(trial)\n",
    "            testList.append(sample)\n",
    "            fullIEMGList.append(testList)"
   ]
  },
  {
   "cell_type": "markdown",
   "metadata": {},
   "source": [
    "### csvファイルの書き込み"
   ]
  },
  {
   "cell_type": "code",
   "execution_count": 79,
   "metadata": {},
   "outputs": [],
   "source": [
    "with open('featureDatas/fullIEMGData.csv', 'w') as f:\n",
    "    writer = csv.writer(f)\n",
    "    writer.writerow(header)\n",
    "    for row in iemgList:\n",
    "        writer.writerow(row)"
   ]
  },
  {
   "cell_type": "markdown",
   "metadata": {},
   "source": [
    "### 半波整流平滑化したIEMGの保存"
   ]
  },
  {
   "cell_type": "code",
   "execution_count": 45,
   "metadata": {},
   "outputs": [],
   "source": [
    "halfIEMG = MyFunction.getIEMGList(rectification='half', feature=False, cut=True)"
   ]
  },
  {
   "cell_type": "code",
   "execution_count": 52,
   "metadata": {},
   "outputs": [],
   "source": [
    "halfIEMGList = []\n",
    "for gesture in range(11):\n",
    "    for trial in range(18):\n",
    "        for sample in range(150):\n",
    "            testList = []\n",
    "            for sensor in range(8):\n",
    "                testList.append(halfIEMG[gesture][trial][sensor][sample])\n",
    "            testList.append(gesture)\n",
    "            testList.append(trial)\n",
    "            testList.append(sample)\n",
    "            halfIEMGList.append(testList)"
   ]
  },
  {
   "cell_type": "code",
   "execution_count": 53,
   "metadata": {},
   "outputs": [],
   "source": [
    "with open('featureDatas/halfIEMGData.csv', 'w') as f:\n",
    "    writer = csv.writer(f)\n",
    "    writer.writerow(header)\n",
    "    for row in halfIEMGList:\n",
    "        writer.writerow(row)"
   ]
  },
  {
   "cell_type": "markdown",
   "metadata": {},
   "source": [
    "### 半波整流したMAV、MAV1の保存"
   ]
  },
  {
   "cell_type": "code",
   "execution_count": 70,
   "metadata": {},
   "outputs": [],
   "source": [
    "halfFeature = MyFunction.getIEMGList(rectification='half', feature=True)\n",
    "halfMAV, halfMAV1 = MyFunction.featureExtractionList(halfFeature)"
   ]
  },
  {
   "cell_type": "code",
   "execution_count": 71,
   "metadata": {},
   "outputs": [],
   "source": [
    "halfMAVList = []\n",
    "for gesture in range(11):\n",
    "    for trial in range(18):\n",
    "        for sample in range(150):\n",
    "            testList = []\n",
    "            for sensor in range(8):\n",
    "                testList.append(halfMAV[gesture][trial][sensor][sample])\n",
    "            testList.append(gesture)\n",
    "            testList.append(trial)\n",
    "            testList.append(sample)\n",
    "            halfMAVList.append(testList)\n",
    "\n",
    "halfMAV1List = []\n",
    "for gesture in range(11):\n",
    "    for trial in range(18):\n",
    "        for sample in range(150):\n",
    "            testList = []\n",
    "            for sensor in range(8):\n",
    "                testList.append(halfMAV1[gesture][trial][sensor][sample])\n",
    "            testList.append(gesture)\n",
    "            testList.append(trial)\n",
    "            testList.append(sample)\n",
    "            halfMAV1List.append(testList)"
   ]
  },
  {
   "cell_type": "code",
   "execution_count": 72,
   "metadata": {},
   "outputs": [],
   "source": [
    "with open('featureDatas/halfMAVData.csv', 'w') as f:\n",
    "    writer = csv.writer(f)\n",
    "    writer.writerow(header)\n",
    "    for row in halfMAVList:\n",
    "        writer.writerow(row)\n",
    "        \n",
    "with open('featureDatas/halfMAV1Data.csv', 'w') as f:\n",
    "    writer = csv.writer(f)\n",
    "    writer.writerow(header)\n",
    "    for row in halfMAV1List:\n",
    "        writer.writerow(row)"
   ]
  },
  {
   "cell_type": "markdown",
   "metadata": {},
   "source": [
    "### 全波整流したMAV、MAV1の保存"
   ]
  },
  {
   "cell_type": "code",
   "execution_count": 73,
   "metadata": {},
   "outputs": [],
   "source": [
    "fullFeature = MyFunction.getIEMGList(rectification='full', feature=True)\n",
    "fullMAV, fullMAV1 = MyFunction.featureExtractionList(fullFeature)"
   ]
  },
  {
   "cell_type": "code",
   "execution_count": 74,
   "metadata": {},
   "outputs": [],
   "source": [
    "fullMAVList = []\n",
    "for gesture in range(11):\n",
    "    for trial in range(18):\n",
    "        for sample in range(150):\n",
    "            testList = []\n",
    "            for sensor in range(8):\n",
    "                testList.append(fullMAV[gesture][trial][sensor][sample])\n",
    "            testList.append(gesture)\n",
    "            testList.append(trial)\n",
    "            testList.append(sample)\n",
    "            fullMAVList.append(testList)\n",
    "\n",
    "fullMAV1List = []\n",
    "for gesture in range(11):\n",
    "    for trial in range(18):\n",
    "        for sample in range(150):\n",
    "            testList = []\n",
    "            for sensor in range(8):\n",
    "                testList.append(fullMAV1[gesture][trial][sensor][sample])\n",
    "            testList.append(gesture)\n",
    "            testList.append(trial)\n",
    "            testList.append(sample)\n",
    "            fullMAV1List.append(testList)"
   ]
  },
  {
   "cell_type": "code",
   "execution_count": 75,
   "metadata": {},
   "outputs": [],
   "source": [
    "with open('featureDatas/fullMAVData.csv', 'w') as f:\n",
    "    writer = csv.writer(f)\n",
    "    writer.writerow(header)\n",
    "    for row in fullMAVList:\n",
    "        writer.writerow(row)\n",
    "        \n",
    "with open('featureDatas/fullMAV1Data.csv', 'w') as f:\n",
    "    writer = csv.writer(f)\n",
    "    writer.writerow(header)\n",
    "    for row in fullMAV1List:\n",
    "        writer.writerow(row)"
   ]
  },
  {
   "cell_type": "code",
   "execution_count": null,
   "metadata": {},
   "outputs": [],
   "source": []
  }
 ],
 "metadata": {
  "kernelspec": {
   "display_name": "Python 3",
   "language": "python",
   "name": "python3"
  },
  "language_info": {
   "codemirror_mode": {
    "name": "ipython",
    "version": 3
   },
   "file_extension": ".py",
   "mimetype": "text/x-python",
   "name": "python",
   "nbconvert_exporter": "python",
   "pygments_lexer": "ipython3",
   "version": "3.6.5"
  }
 },
 "nbformat": 4,
 "nbformat_minor": 4
}
