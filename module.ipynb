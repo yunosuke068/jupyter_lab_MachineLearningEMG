{
 "cells": [
  {
   "cell_type": "code",
   "execution_count": 1,
   "metadata": {},
   "outputs": [
    {
     "name": "stdout",
     "output_type": "stream",
     "text": [
      "3\n",
      "1\n",
      "this is axaa\n",
      "this is axaa\n",
      "this is b\n",
      "['動作1', '動作2', '動作3', '動作4', '動作5', '動作6', '動作7', '動作8', '動作9', '動作10', '動作11']\n"
     ]
    }
   ],
   "source": [
    "from testFunction import my_function\n",
    "\n",
    "print(my_function.my_sum(2,1))\n",
    "print(my_function.my_dif(3,1))\n",
    "print(my_function.mya())\n",
    "print(my_function.a)\n",
    "print(my_function.myb())\n",
    "\n",
    "print(my_function.gesture_name)"
   ]
  },
  {
   "cell_type": "code",
   "execution_count": null,
   "metadata": {},
   "outputs": [],
   "source": []
  },
  {
   "cell_type": "code",
   "execution_count": null,
   "metadata": {},
   "outputs": [],
   "source": []
  }
 ],
 "metadata": {
  "kernelspec": {
   "display_name": "Python 3",
   "language": "python",
   "name": "python3"
  },
  "language_info": {
   "codemirror_mode": {
    "name": "ipython",
    "version": 3
   },
   "file_extension": ".py",
   "mimetype": "text/x-python",
   "name": "python",
   "nbconvert_exporter": "python",
   "pygments_lexer": "ipython3",
   "version": "3.6.5"
  }
 },
 "nbformat": 4,
 "nbformat_minor": 4
}
