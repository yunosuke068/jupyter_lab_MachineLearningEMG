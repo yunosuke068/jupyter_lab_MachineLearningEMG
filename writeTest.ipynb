{
 "cells": [
  {
   "cell_type": "markdown",
   "metadata": {},
   "source": [
    "[csvファイルの書き込み](## csvファイルの書き込み)"
   ]
  },
  {
   "cell_type": "code",
   "execution_count": 26,
   "metadata": {},
   "outputs": [
    {
     "name": "stdout",
     "output_type": "stream",
     "text": [
      "[[11, 12, 13, 14], [21, 22, 23, 24], [31, 32, 33, 34]]\n"
     ]
    }
   ],
   "source": [
    "import csv\n",
    "\n",
    "l = [[11, 12, 13, 14], [21, 22, 23, 24], [31, 32, 33, 34]]\n",
    "print(l)\n",
    "# [[11, 12, 13, 14], [21, 22, 23, 24], [31, 32, 33, 34]]\n",
    "\n",
    "header = ['', 'a', 'b', 'c', 'd']\n",
    "index = ['ONE', 'TWO', 'THREE']"
   ]
  },
  {
   "cell_type": "markdown",
   "metadata": {},
   "source": [
    "## csvファイルの書き込み"
   ]
  },
  {
   "cell_type": "code",
   "execution_count": 27,
   "metadata": {},
   "outputs": [],
   "source": [
    "with open('writeTest.csv', 'w') as f:\n",
    "    writer = csv.writer(f) # csvの書き込みを宣言\n",
    "    writer.writerow(header) # headerの書き込み\n",
    "    for i, row in zip(index, l):\n",
    "        writer.writerow([i] + row)"
   ]
  },
  {
   "cell_type": "markdown",
   "metadata": {},
   "source": [
    "## csvファイルの読み込み"
   ]
  },
  {
   "cell_type": "code",
   "execution_count": 13,
   "metadata": {},
   "outputs": [
    {
     "name": "stdout",
     "output_type": "stream",
     "text": [
      ",a,b,c,d\n",
      "ONE,11,12,13,14\n",
      "TWO,21,22,23,24\n",
      "THREE,31,32,33,34\n",
      "\n",
      "[['', 'a', 'b', 'c', 'd'], ['ONE', '11', '12', '13', '14'], ['TWO', '21', '22', '23', '24'], ['THREE', '31', '32', '33', '34']]\n"
     ]
    }
   ],
   "source": [
    "with open('writeTest.csv') as f:\n",
    "    rl = f.read()\n",
    "print(rl)\n",
    "testList = []\n",
    "for row in rl.split('\\n'):\n",
    "    testList.append(row.split(','))\n",
    "del testList[len(testList)-1]\n",
    "print(testList)"
   ]
  },
  {
   "cell_type": "markdown",
   "metadata": {},
   "source": [
    "## k分割交差検証\n",
    "\n",
    "k-fold によるデータの分割方法"
   ]
  },
  {
   "cell_type": "code",
   "execution_count": 25,
   "metadata": {},
   "outputs": [
    {
     "name": "stdout",
     "output_type": "stream",
     "text": [
      "[1 2 3] [0]\n",
      "[['ONE' '11' '12' '13' '14']\n",
      " ['TWO' '21' '22' '23' '24']\n",
      " ['THREE' '31' '32' '33' '34']] ['', 'a', 'b', 'c', 'd']\n",
      "[0 2 3] [1]\n",
      "[['' 'a' 'b' 'c' 'd']\n",
      " ['TWO' '21' '22' '23' '24']\n",
      " ['THREE' '31' '32' '33' '34']] ['ONE', '11', '12', '13', '14']\n",
      "[0 1 3] [2]\n",
      "[['' 'a' 'b' 'c' 'd']\n",
      " ['ONE' '11' '12' '13' '14']\n",
      " ['THREE' '31' '32' '33' '34']] ['TWO', '21', '22', '23', '24']\n",
      "[0 1 2] [3]\n",
      "[['' 'a' 'b' 'c' 'd']\n",
      " ['ONE' '11' '12' '13' '14']\n",
      " ['TWO' '21' '22' '23' '24']] ['THREE', '31', '32', '33', '34']\n"
     ]
    }
   ],
   "source": [
    "import numpy as np\n",
    "from sklearn.model_selection import KFold\n",
    "\n",
    "kf = KFold(n_splits = 4)\n",
    "\n",
    "for train, test in kf.split(testList):\n",
    "    print('%s %s'% (train, test))\n",
    "    trainSet = []\n",
    "    for i in train:\n",
    "        trainSet.append(testList[i])\n",
    "    print('%s %s'% (np.array(trainSet), testList[test[0]]))"
   ]
  },
  {
   "cell_type": "code",
   "execution_count": 20,
   "metadata": {},
   "outputs": [
    {
     "name": "stdout",
     "output_type": "stream",
     "text": [
      "[['', 'a', 'b', 'c', 'd'], ['ONE', '11', '12', '13', '14']]\n"
     ]
    }
   ],
   "source": [
    "print(testList[0:2])"
   ]
  },
  {
   "cell_type": "code",
   "execution_count": null,
   "metadata": {},
   "outputs": [],
   "source": []
  }
 ],
 "metadata": {
  "kernelspec": {
   "display_name": "Python 3",
   "language": "python",
   "name": "python3"
  },
  "language_info": {
   "codemirror_mode": {
    "name": "ipython",
    "version": 3
   },
   "file_extension": ".py",
   "mimetype": "text/x-python",
   "name": "python",
   "nbconvert_exporter": "python",
   "pygments_lexer": "ipython3",
   "version": "3.6.5"
  }
 },
 "nbformat": 4,
 "nbformat_minor": 4
}
